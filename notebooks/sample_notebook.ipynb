{
 "cells": [
  {
   "cell_type": "code",
   "execution_count": 2,
   "id": "5e792322-373f-4d90-838b-5168c540b354",
   "metadata": {},
   "outputs": [
    {
     "name": "stdout",
     "output_type": "stream",
     "text": [
      "dette er en test\n"
     ]
    }
   ],
   "source": [
    "print(\"dette er en test\")\n",
    "\n",
    "# Nei det vil jeg ikke"
   ]
  }
 ],
 "metadata": {
  "kernelspec": {
   "display_name": "svv-kurs",
   "language": "python",
   "name": "svv-kurs"
  },
  "language_info": {
   "codemirror_mode": {
    "name": "ipython",
    "version": 3
   },
   "file_extension": ".py",
   "mimetype": "text/x-python",
   "name": "python",
   "nbconvert_exporter": "python",
   "pygments_lexer": "ipython3",
   "version": "3.10.0"
  }
 },
 "nbformat": 4,
 "nbformat_minor": 5
}
